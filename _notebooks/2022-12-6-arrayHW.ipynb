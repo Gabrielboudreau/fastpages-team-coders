{
 "cells": [
  {
   "cell_type": "code",
   "execution_count": 128,
   "metadata": {
    "vscode": {
     "languageId": "java"
    }
   },
   "outputs": [
    {
     "name": "stdout",
     "output_type": "stream",
     "text": [
      "[[LREPL.$JShell$40CI$Position;@3223f913\n",
      "REPL.$JShell$40CI$Position@3c75bf04\n"
     ]
    }
   ],
   "source": [
    "\n",
    "\n",
    "public class Position{\n",
    "    private int x;\n",
    "    private int y;\n",
    "    public Position(int x, int y){\n",
    "        this.x = x;\n",
    "        this.y = y;\n",
    "    }\n",
    "    static Position findPosition(int check, int[][] arr){\n",
    "        for (int i = 0; i < 3; i++) {\n",
    "            for (int j = 0; j < 3; j++) {\n",
    "                if (arr[i][j] == check){\n",
    "                    return new Position(i, j); \n",
    "                }\n",
    "                \n",
    "            }\n",
    "        }\n",
    "        return null;\n",
    "    }\n",
    "    \n",
    "    public static Position[][] newArray(int[][] arr1){\n",
    "        Position[][] newArr = new Position[arr1.length][arr1[0].length];\n",
    "        for (int i = 0; i < 3; i++){\n",
    "            for (int j = 0; j < 3; j++){\n",
    "                newArr[i][j] = findPosition(arr1[i][j]+1, arr1);\n",
    "            }\n",
    "        }\n",
    "        return newArr;\n",
    "    }\n",
    "    public static void main(String[] args){\n",
    "        int[][] arr = {\n",
    "            {1, 2, 3},\n",
    "            {4, 5, 6},\n",
    "            {7, 8, 9},\n",
    "        };\n",
    "        int[][] arr1 = {\n",
    "            {5, 9, 6},\n",
    "            {2, 3, 8},\n",
    "            {7, 1, 6},\n",
    "        };\n",
    "        System.out.println(newArray(arr1));\n",
    "        System.out.println(findPosition(1, arr));\n",
    "    }\n",
    "\n",
    "}\n",
    "Position.main(null);\n",
    "\n"
   ]
  }
 ],
 "metadata": {
  "kernelspec": {
   "display_name": "Java",
   "language": "java",
   "name": "java"
  },
  "language_info": {
   "codemirror_mode": "java",
   "file_extension": ".jshell",
   "mimetype": "text/x-java-source",
   "name": "Java",
   "pygments_lexer": "java",
   "version": "17.0.5+8-Ubuntu-2ubuntu120.04"
  },
  "orig_nbformat": 4
 },
 "nbformat": 4,
 "nbformat_minor": 2
}
