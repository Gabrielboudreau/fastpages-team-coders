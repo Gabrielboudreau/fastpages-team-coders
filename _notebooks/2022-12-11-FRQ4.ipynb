{
 "cells": [
  {
   "cell_type": "markdown",
   "metadata": {},
   "source": [
    "# CollegeBoard FRQ 4\n",
    "\n",
    "- toc: true \n",
    "- badges: true\n",
    "- comments: true\n",
    "- categories: [jupyter]\n",
    "- title: CollegeBoard FRQ 4"
   ]
  },
  {
   "cell_type": "markdown",
   "metadata": {},
   "source": [
    "## 2D Array Vocab:\n",
    "- **Array** = a data structure used to implement a collection (list) of primitive or object reference data\n",
    "  - an example:"
   ]
  },
  {
   "cell_type": "code",
   "execution_count": 1,
   "metadata": {},
   "outputs": [
    {
     "name": "stdout",
     "output_type": "stream",
     "text": [
      "arr[0][0] = 1\n",
      "arr[1][2] = 6\n",
      "arr[2][1] = 8\n"
     ]
    }
   ],
   "source": [
    "public class Test {\n",
    "\n",
    "    public static void main(String[] args) {\n",
    " \n",
    "       int[][] arr = {\n",
    "          { 1, 2, 3 },\n",
    "          { 4, 5, 6 },\n",
    "          { 7, 8, 9 }\n",
    "       };\n",
    " \n",
    "       System.out.println(\"arr[0][0] = \" + arr[0][0]);\n",
    "       System.out.println(\"arr[1][2] = \" + arr[1][2]);\n",
    "       System.out.println(\"arr[2][1] = \" + arr[2][1]);\n",
    "       \n",
    "    }\n",
    " \n",
    " }\n",
    " Test.main(null);"
   ]
  },
  {
   "cell_type": "markdown",
   "metadata": {},
   "source": [
    "- **Element** = a single value in the array\n",
    "- **Index** = the position of the element in the array (starts from 0)\n",
    "- **Array Length** = the number of elements in the array\n",
    "    - Is public, so can be accessed in any class\n",
    "    - Is also final, so can’t change it after array has been created\n",
    "- **Nested Loops** = A nested loop is a loop within a loop, an inner loop within the body of an outer one\n",
    "  - an example:"
   ]
  },
  {
   "cell_type": "code",
   "execution_count": null,
   "metadata": {},
   "outputs": [],
   "source": [
    "public class Test {\n",
    "\n",
    "    public static void main(String[] args) {\n",
    " \n",
    "      String[][] arr = {\n",
    "         { \"a\", \"f\", \"g\", \"l\" },\n",
    "         { \"b\", \"e\", \"h\", \"k\" },\n",
    "         { \"c\", \"d\", \"i\", \"j\" }\n",
    "      };\n",
    " \n",
    "      for (int row = 0; row < 3; row++) {\n",
    "         for (int col = 0; col < 4; col++) {\n",
    "            System.out.print(arr[row][col] + \" \");\n",
    "         }\n",
    "        System.out.println(\" \");\n",
    "      }\n",
    "       \n",
    "    }\n",
    " \n",
    " }\n",
    " Test.main(null);"
   ]
  },
  {
   "cell_type": "markdown",
   "metadata": {},
   "source": [
    "## FRQ 4:"
   ]
  },
  {
   "cell_type": "code",
   "execution_count": null,
   "metadata": {},
   "outputs": [],
   "source": [
    "public class LightBoard {\n",
    " /** The lights on the board, where true represents on and false represents off.\n",
    " */\n",
    " private boolean[][] lights;\n",
    " /** Constructs a LightBoard object having numRows rows and numCols columns.\n",
    " * Precondition: numRows > 0, numCols > 0\n",
    " * Postcondition: each light has a 40% probability of being set to on.\n",
    " */\n",
    " public LightBoard(int numRows, int numCols)\n",
    " { /* to be implemented in part (a) */ }\n",
    " /** Evaluates a light in row index row and column index col and returns a status\n",
    " * as described in part (b).\n",
    " * Precondition: row and col are valid indexes in lights.\n",
    " */\n",
    " public boolean evaluateLight(int row, int col)\n",
    " { /* to be implemented in part (b) */ }\n",
    " // There may be additional instance variables, constructors, and methods not shown.\n",
    "} "
   ]
  },
  {
   "cell_type": "markdown",
   "metadata": {},
   "source": [
    "### part a"
   ]
  },
  {
   "cell_type": "code",
   "execution_count": null,
   "metadata": {},
   "outputs": [],
   "source": [
    "public LightBoard(int numRows, int numCols) {\n",
    "  \n",
    "    lights = new boolean[numRows][numCols];\n",
    "\n",
    "    // use of nested loops to iterate through the array elements\n",
    "    for(int r = 0; r < lights.length; r++) {\n",
    "        for(int c = 0; c < lights[0].length; c++) {\n",
    "            if(Math.random() <= 0.4)\n",
    "                lights[r][c] = true;\n",
    "        }\n",
    "    }\n",
    "\n",
    "}"
   ]
  },
  {
   "cell_type": "markdown",
   "metadata": {},
   "source": [
    "### part b"
   ]
  },
  {
   "cell_type": "code",
   "execution_count": null,
   "metadata": {},
   "outputs": [],
   "source": [
    "public boolean evaluateLight(int row, int col) {\n",
    "    \n",
    "    // sets initial to 0\n",
    "    int onInColumn = 0;\n",
    "\n",
    "    // finds how many lights are on\n",
    "    for(int r = 0; r < lights.length; r++) {\n",
    "        if(lights[r][col] == true) {\n",
    "            onInColumn++;\n",
    "        }\n",
    "    }\n",
    "        \n",
    "    // decides if the conditions match true or false\n",
    "    if(lights[row][col]) {\n",
    "        if(onInColumn % 2 == 0) {\n",
    "            return false;\n",
    "        }\n",
    "    } else {\n",
    "        if(onInColumn % 3 == 0) {\n",
    "            return true;\n",
    "        }\n",
    "    }\n",
    "    \n",
    "        \n",
    "    return lights[row][col];\n",
    "    \n",
    "}"
   ]
  }
 ],
 "metadata": {
  "kernelspec": {
   "display_name": "Java",
   "language": "java",
   "name": "java"
  },
  "language_info": {
   "codemirror_mode": "java",
   "file_extension": ".jshell",
   "mimetype": "text/x-java-source",
   "name": "java",
   "pygments_lexer": "java",
   "version": "11.0.16+8-post-Ubuntu-0ubuntu120.04"
  },
  "orig_nbformat": 4,
  "vscode": {
   "interpreter": {
    "hash": "916dbcbb3f70747c44a77c7bcd40155683ae19c65e1c03b4aa3499c5328201f1"
   }
  }
 },
 "nbformat": 4,
 "nbformat_minor": 2
}
